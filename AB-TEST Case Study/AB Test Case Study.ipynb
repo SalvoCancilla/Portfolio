{
 "cells": [
  {
   "attachments": {},
   "cell_type": "markdown",
   "id": "25f64c6b-a925-4bb9-9293-2a8f60379208",
   "metadata": {},
   "source": [
    "# AB Test Case Study"
   ]
  },
  {
   "attachments": {},
   "cell_type": "markdown",
   "id": "067aa170-7f45-4505-9d5d-da6d92ca27fd",
   "metadata": {},
   "source": [
    "#### Background\n",
    "\n",
    "A recent **competitive benckmark analysis** has shown that there is margin to improve the conversion rate of the checkout funnel, so *the product and design teams* have been working together in the past weeks to come up with a restyling of the cart page that, hopefully, will increase conversions. \n",
    "The new version includes many changes to the current page and, being the business particularly data-driven, they want to change one major component at the time in order to be able to quantify any differences. "
   ]
  },
  {
   "attachments": {},
   "cell_type": "markdown",
   "id": "bc37b602-6071-4a70-b9a9-5fb5c7bcf57e",
   "metadata": {},
   "source": [
    "#### Your Goal\n",
    "As a data analyst you've been asked to **design and implement an experiment** to test if, after implementing the first feature, there is any **difference in conversion rate** between the old and the new cart page. "
   ]
  },
  {
   "attachments": {},
   "cell_type": "markdown",
   "id": "16a7d6cf-5e5b-4dfe-bb61-2ff9ad9a696c",
   "metadata": {},
   "source": [
    "## Design of the AB-TEST\n",
    "\n",
    "#### Preliminary Steps\n",
    "\n",
    "1. First of all, you need to find the **baseline conversion rate** that is, the average conversion rate of the current cart page, so you head over to Google Analytics and find that it's around 11.5%. \n",
    "\n",
    "2. Talking with *your stakeholders*, you all agree that you would expect to see at least a 1% increase (in absolute terms) with the new cart page, so you insert this information in an [online calculator](https://www.evanmiller.org/ab-testing/sample-size.html) in order to find the **minimum sample size** required.\n",
    "\n",
    "3. With a baseline conversion rate of 11.5% and a minimum detectable effect of 1% (in absolute terms), you need a **minimum sample size** of at least 16,154 observations per group (control and treatment). \n",
    "\n",
    "4. Since your company's business cycle, from first contact to conversion, takes about 10 days on average, you decide to **run the experiment for at least three full weeks**. \n",
    "\n",
    "### Implementation\n",
    "\n",
    "At this point, you reach the *software development team* that looks after the core codebase of the e-commerce platform and explain the challenge: you need them to implement a solution that allows you to **divert 50% of the traffic** to the old cart page and the remaining 50% of the traffic to its newly restyled version. \n",
    "\n",
    "A key aspect of this solution is that the traffic must be divided into **two groups of equal size**, and **subjects must be assigned randomly** to each one of the two groups. \n",
    "\n",
    "The **results** will be easily accessible in a **tabular format** with the following carachteristics: \n",
    "\n",
    "- each observation will be identifyied by a user id and a date value\n",
    "- each user will be flagged as part of the 'control' or 'treatment' group\n",
    "- for each user, it will be recorded the actual cart page name that was displayed, between 'old_cart' and 'new_cart'\n",
    "- a user who converted will be flagged with a 1 "
   ]
  },
  {
   "attachments": {},
   "cell_type": "markdown",
   "id": "8da8392e-d3b4-433f-ad83-4e6b2d82ee70",
   "metadata": {},
   "source": [
    "## DATA ANALYSIS\n",
    "\n",
    "A little more than three weeks later, you retrieve your results and load them in a Python DataFrame named `df`:"
   ]
  },
  {
   "cell_type": "code",
   "execution_count": 1,
   "id": "1ba96d34-60c6-45ec-83c1-179f8ad2b9d6",
   "metadata": {},
   "outputs": [],
   "source": [
    "import pandas as pd\n",
    "import numpy as np\n",
    "from scipy import stats\n",
    "import matplotlib.pyplot as plt\n",
    "import seaborn as sns\n",
    "sns.set_theme()\n",
    "import statsmodels "
   ]
  },
  {
   "cell_type": "code",
   "execution_count": 2,
   "id": "e3396c0f-9861-42f5-99e1-660a3222fa5c",
   "metadata": {},
   "outputs": [],
   "source": [
    "df_raw = pd.read_excel(\"ab-test-case-study.xlsx\")\n",
    "df = df_raw.copy()"
   ]
  },
  {
   "attachments": {},
   "cell_type": "markdown",
   "id": "4edf652c",
   "metadata": {},
   "source": [
    "# Initial check on the dataset"
   ]
  },
  {
   "cell_type": "code",
   "execution_count": 3,
   "id": "22f4893c-a796-48b2-91f7-241b6e561456",
   "metadata": {},
   "outputs": [
    {
     "data": {
      "text/html": [
       "<div>\n",
       "<style scoped>\n",
       "    .dataframe tbody tr th:only-of-type {\n",
       "        vertical-align: middle;\n",
       "    }\n",
       "\n",
       "    .dataframe tbody tr th {\n",
       "        vertical-align: top;\n",
       "    }\n",
       "\n",
       "    .dataframe thead th {\n",
       "        text-align: right;\n",
       "    }\n",
       "</style>\n",
       "<table border=\"1\" class=\"dataframe\">\n",
       "  <thead>\n",
       "    <tr style=\"text-align: right;\">\n",
       "      <th></th>\n",
       "      <th>uid</th>\n",
       "      <th>date</th>\n",
       "      <th>group</th>\n",
       "      <th>page</th>\n",
       "      <th>converted</th>\n",
       "    </tr>\n",
       "  </thead>\n",
       "  <tbody>\n",
       "    <tr>\n",
       "      <th>0</th>\n",
       "      <td>851104</td>\n",
       "      <td>2017-01-21</td>\n",
       "      <td>treatment</td>\n",
       "      <td>new_cart</td>\n",
       "      <td>0</td>\n",
       "    </tr>\n",
       "    <tr>\n",
       "      <th>1</th>\n",
       "      <td>804228</td>\n",
       "      <td>2017-01-12</td>\n",
       "      <td>treatment</td>\n",
       "      <td>new_cart</td>\n",
       "      <td>0</td>\n",
       "    </tr>\n",
       "    <tr>\n",
       "      <th>2</th>\n",
       "      <td>661590</td>\n",
       "      <td>2017-01-11</td>\n",
       "      <td>control</td>\n",
       "      <td>old_cart</td>\n",
       "      <td>0</td>\n",
       "    </tr>\n",
       "    <tr>\n",
       "      <th>3</th>\n",
       "      <td>853541</td>\n",
       "      <td>2017-01-08</td>\n",
       "      <td>control</td>\n",
       "      <td>old_cart</td>\n",
       "      <td>0</td>\n",
       "    </tr>\n",
       "    <tr>\n",
       "      <th>4</th>\n",
       "      <td>864975</td>\n",
       "      <td>2017-01-21</td>\n",
       "      <td>treatment</td>\n",
       "      <td>new_cart</td>\n",
       "      <td>1</td>\n",
       "    </tr>\n",
       "  </tbody>\n",
       "</table>\n",
       "</div>"
      ],
      "text/plain": [
       "      uid       date      group      page  converted\n",
       "0  851104 2017-01-21  treatment  new_cart          0\n",
       "1  804228 2017-01-12  treatment  new_cart          0\n",
       "2  661590 2017-01-11    control  old_cart          0\n",
       "3  853541 2017-01-08    control  old_cart          0\n",
       "4  864975 2017-01-21  treatment  new_cart          1"
      ]
     },
     "execution_count": 3,
     "metadata": {},
     "output_type": "execute_result"
    }
   ],
   "source": [
    "df.head()"
   ]
  },
  {
   "cell_type": "code",
   "execution_count": 4,
   "id": "8fcd866d-e6aa-4845-bf6e-579e66756f93",
   "metadata": {},
   "outputs": [
    {
     "name": "stdout",
     "output_type": "stream",
     "text": [
      "<class 'pandas.core.frame.DataFrame'>\n",
      "RangeIndex: 294478 entries, 0 to 294477\n",
      "Data columns (total 5 columns):\n",
      " #   Column     Non-Null Count   Dtype         \n",
      "---  ------     --------------   -----         \n",
      " 0   uid        294478 non-null  int64         \n",
      " 1   date       294478 non-null  datetime64[ns]\n",
      " 2   group      294478 non-null  object        \n",
      " 3   page       294478 non-null  object        \n",
      " 4   converted  294478 non-null  int64         \n",
      "dtypes: datetime64[ns](1), int64(2), object(2)\n",
      "memory usage: 11.2+ MB\n"
     ]
    }
   ],
   "source": [
    "df.info()"
   ]
  },
  {
   "attachments": {},
   "cell_type": "markdown",
   "id": "8904fb55-7e4f-4e1d-b1fa-d5ead9df3162",
   "metadata": {},
   "source": [
    "As a first check on the **consistency of the data**, we check that the `group` and `page` variables have a one-to-one relationship. To do this, we create a summary table where we aggregate those two variables and count how many observations there are for each possible combination of their categories:"
   ]
  },
  {
   "cell_type": "code",
   "execution_count": 5,
   "id": "cead1148-4bce-4913-8598-3721c903199a",
   "metadata": {},
   "outputs": [
    {
     "data": {
      "text/html": [
       "<div>\n",
       "<style scoped>\n",
       "    .dataframe tbody tr th:only-of-type {\n",
       "        vertical-align: middle;\n",
       "    }\n",
       "\n",
       "    .dataframe tbody tr th {\n",
       "        vertical-align: top;\n",
       "    }\n",
       "\n",
       "    .dataframe thead th {\n",
       "        text-align: right;\n",
       "    }\n",
       "</style>\n",
       "<table border=\"1\" class=\"dataframe\">\n",
       "  <thead>\n",
       "    <tr style=\"text-align: right;\">\n",
       "      <th></th>\n",
       "      <th>group</th>\n",
       "      <th>page</th>\n",
       "      <th>size</th>\n",
       "    </tr>\n",
       "  </thead>\n",
       "  <tbody>\n",
       "    <tr>\n",
       "      <th>0</th>\n",
       "      <td>control</td>\n",
       "      <td>new_cart</td>\n",
       "      <td>1965</td>\n",
       "    </tr>\n",
       "    <tr>\n",
       "      <th>1</th>\n",
       "      <td>control</td>\n",
       "      <td>old_cart</td>\n",
       "      <td>145311</td>\n",
       "    </tr>\n",
       "    <tr>\n",
       "      <th>2</th>\n",
       "      <td>treatment</td>\n",
       "      <td>new_cart</td>\n",
       "      <td>145274</td>\n",
       "    </tr>\n",
       "    <tr>\n",
       "      <th>3</th>\n",
       "      <td>treatment</td>\n",
       "      <td>old_cart</td>\n",
       "      <td>1928</td>\n",
       "    </tr>\n",
       "  </tbody>\n",
       "</table>\n",
       "</div>"
      ],
      "text/plain": [
       "       group      page    size\n",
       "0    control  new_cart    1965\n",
       "1    control  old_cart  145311\n",
       "2  treatment  new_cart  145274\n",
       "3  treatment  old_cart    1928"
      ]
     },
     "execution_count": 5,
     "metadata": {},
     "output_type": "execute_result"
    }
   ],
   "source": [
    "df.groupby(['group', 'page'], as_index=False).size()"
   ]
  },
  {
   "attachments": {},
   "cell_type": "markdown",
   "id": "aa9d5947-5942-4340-bfa8-ab5626ee4170",
   "metadata": {},
   "source": [
    "We notice that some users were assigned a 'control' label but actually saw the 'new_cart' and, vice versa, others were assigned a 'treatment' label but actually saw the 'old_cart'. This was likely caused by a **bug or an exception** in the traffic split system; luckily there aren't many of these instances, so we can filter out the inconsistencies. "
   ]
  },
  {
   "cell_type": "code",
   "execution_count": 6,
   "id": "87b023c2-57be-439c-b7bf-593c6c0726ae",
   "metadata": {},
   "outputs": [],
   "source": [
    "df = df[(df[\"group\"]=='control')&(df[\"page\"]=='old_cart') | (df.group=='treatment')&(df.page=='new_cart')]"
   ]
  },
  {
   "cell_type": "code",
   "execution_count": 7,
   "id": "4615908a-c18e-4066-9f10-58c76d89e057",
   "metadata": {},
   "outputs": [
    {
     "data": {
      "text/html": [
       "<div>\n",
       "<style scoped>\n",
       "    .dataframe tbody tr th:only-of-type {\n",
       "        vertical-align: middle;\n",
       "    }\n",
       "\n",
       "    .dataframe tbody tr th {\n",
       "        vertical-align: top;\n",
       "    }\n",
       "\n",
       "    .dataframe thead th {\n",
       "        text-align: right;\n",
       "    }\n",
       "</style>\n",
       "<table border=\"1\" class=\"dataframe\">\n",
       "  <thead>\n",
       "    <tr style=\"text-align: right;\">\n",
       "      <th></th>\n",
       "      <th>group</th>\n",
       "      <th>page</th>\n",
       "      <th>size</th>\n",
       "    </tr>\n",
       "  </thead>\n",
       "  <tbody>\n",
       "    <tr>\n",
       "      <th>0</th>\n",
       "      <td>control</td>\n",
       "      <td>old_cart</td>\n",
       "      <td>145311</td>\n",
       "    </tr>\n",
       "    <tr>\n",
       "      <th>1</th>\n",
       "      <td>treatment</td>\n",
       "      <td>new_cart</td>\n",
       "      <td>145274</td>\n",
       "    </tr>\n",
       "  </tbody>\n",
       "</table>\n",
       "</div>"
      ],
      "text/plain": [
       "       group      page    size\n",
       "0    control  old_cart  145311\n",
       "1  treatment  new_cart  145274"
      ]
     },
     "execution_count": 7,
     "metadata": {},
     "output_type": "execute_result"
    }
   ],
   "source": [
    "df.groupby(['group', 'page'], as_index=False).size()"
   ]
  },
  {
   "attachments": {},
   "cell_type": "markdown",
   "id": "e7c446e3-19ac-4721-89fa-b904c97f43f1",
   "metadata": {},
   "source": [
    "According to our experimental design, a user id should appear only once in the dataset: if multiple sessions were recorded, then only the last session should be tracked, and a value of either 1 or 0 should be assigned to the `converted` variable accordingly. So, as a second check, we make sure that there are no duplicated values in the `uid` column: "
   ]
  },
  {
   "cell_type": "code",
   "execution_count": 11,
   "id": "f807890d-97c0-4a9b-949f-f2a38aa537cd",
   "metadata": {},
   "outputs": [
    {
     "data": {
      "text/plain": [
       "773192    2\n",
       "851104    1\n",
       "688307    1\n",
       "718297    1\n",
       "838144    1\n",
       "         ..\n",
       "755610    1\n",
       "804629    1\n",
       "837875    1\n",
       "889019    1\n",
       "715931    1\n",
       "Name: uid, Length: 290584, dtype: int64"
      ]
     },
     "execution_count": 11,
     "metadata": {},
     "output_type": "execute_result"
    }
   ],
   "source": [
    "df.uid.value_counts()"
   ]
  },
  {
   "cell_type": "code",
   "execution_count": 14,
   "id": "1cd5e58d",
   "metadata": {},
   "outputs": [
    {
     "data": {
      "text/html": [
       "<div>\n",
       "<style scoped>\n",
       "    .dataframe tbody tr th:only-of-type {\n",
       "        vertical-align: middle;\n",
       "    }\n",
       "\n",
       "    .dataframe tbody tr th {\n",
       "        vertical-align: top;\n",
       "    }\n",
       "\n",
       "    .dataframe thead th {\n",
       "        text-align: right;\n",
       "    }\n",
       "</style>\n",
       "<table border=\"1\" class=\"dataframe\">\n",
       "  <thead>\n",
       "    <tr style=\"text-align: right;\">\n",
       "      <th></th>\n",
       "      <th>uid</th>\n",
       "      <th>date</th>\n",
       "      <th>group</th>\n",
       "      <th>page</th>\n",
       "      <th>converted</th>\n",
       "    </tr>\n",
       "  </thead>\n",
       "  <tbody>\n",
       "    <tr>\n",
       "      <th>2893</th>\n",
       "      <td>773192</td>\n",
       "      <td>2017-01-14</td>\n",
       "      <td>control</td>\n",
       "      <td>old_cart</td>\n",
       "      <td>0</td>\n",
       "    </tr>\n",
       "  </tbody>\n",
       "</table>\n",
       "</div>"
      ],
      "text/plain": [
       "         uid       date    group      page  converted\n",
       "2893  773192 2017-01-14  control  old_cart          0"
      ]
     },
     "execution_count": 14,
     "metadata": {},
     "output_type": "execute_result"
    }
   ],
   "source": [
    "duplicated=df.loc[df[\"uid\"].duplicated()]\n",
    "duplicated"
   ]
  },
  {
   "cell_type": "code",
   "execution_count": 17,
   "id": "4068c52a",
   "metadata": {},
   "outputs": [
    {
     "data": {
      "text/html": [
       "<div>\n",
       "<style scoped>\n",
       "    .dataframe tbody tr th:only-of-type {\n",
       "        vertical-align: middle;\n",
       "    }\n",
       "\n",
       "    .dataframe tbody tr th {\n",
       "        vertical-align: top;\n",
       "    }\n",
       "\n",
       "    .dataframe thead th {\n",
       "        text-align: right;\n",
       "    }\n",
       "</style>\n",
       "<table border=\"1\" class=\"dataframe\">\n",
       "  <thead>\n",
       "    <tr style=\"text-align: right;\">\n",
       "      <th></th>\n",
       "      <th>uid</th>\n",
       "      <th>date</th>\n",
       "      <th>group</th>\n",
       "      <th>page</th>\n",
       "      <th>converted</th>\n",
       "    </tr>\n",
       "  </thead>\n",
       "  <tbody>\n",
       "    <tr>\n",
       "      <th>1899</th>\n",
       "      <td>773192</td>\n",
       "      <td>2017-01-09</td>\n",
       "      <td>control</td>\n",
       "      <td>old_cart</td>\n",
       "      <td>0</td>\n",
       "    </tr>\n",
       "    <tr>\n",
       "      <th>2893</th>\n",
       "      <td>773192</td>\n",
       "      <td>2017-01-14</td>\n",
       "      <td>control</td>\n",
       "      <td>old_cart</td>\n",
       "      <td>0</td>\n",
       "    </tr>\n",
       "  </tbody>\n",
       "</table>\n",
       "</div>"
      ],
      "text/plain": [
       "         uid       date    group      page  converted\n",
       "1899  773192 2017-01-09  control  old_cart          0\n",
       "2893  773192 2017-01-14  control  old_cart          0"
      ]
     },
     "execution_count": 17,
     "metadata": {},
     "output_type": "execute_result"
    }
   ],
   "source": [
    "df[df['uid']==773192]"
   ]
  },
  {
   "attachments": {},
   "cell_type": "markdown",
   "id": "ad8950db-0eb4-4a9b-82e5-510f0ddebdd0",
   "metadata": {},
   "source": [
    "You notice that there is one user id '773192' that appears twice in two different dates and has never converted. In order to **avoid having duplicates** in the data, we can decide to keep only the most recent record: "
   ]
  },
  {
   "cell_type": "code",
   "execution_count": 18,
   "id": "4213907a-2a80-42e4-bb29-978209e632ba",
   "metadata": {},
   "outputs": [],
   "source": [
    "df = df.drop(df[(df.uid == 773192) & (df.date =='2017-01-09')].index)"
   ]
  },
  {
   "cell_type": "code",
   "execution_count": 19,
   "id": "16c903a2-7dd7-4810-82d2-09a20e0b0d06",
   "metadata": {},
   "outputs": [
    {
     "data": {
      "text/html": [
       "<div>\n",
       "<style scoped>\n",
       "    .dataframe tbody tr th:only-of-type {\n",
       "        vertical-align: middle;\n",
       "    }\n",
       "\n",
       "    .dataframe tbody tr th {\n",
       "        vertical-align: top;\n",
       "    }\n",
       "\n",
       "    .dataframe thead th {\n",
       "        text-align: right;\n",
       "    }\n",
       "</style>\n",
       "<table border=\"1\" class=\"dataframe\">\n",
       "  <thead>\n",
       "    <tr style=\"text-align: right;\">\n",
       "      <th></th>\n",
       "      <th>uid</th>\n",
       "      <th>date</th>\n",
       "      <th>group</th>\n",
       "      <th>page</th>\n",
       "      <th>converted</th>\n",
       "    </tr>\n",
       "  </thead>\n",
       "  <tbody>\n",
       "    <tr>\n",
       "      <th>2893</th>\n",
       "      <td>773192</td>\n",
       "      <td>2017-01-14</td>\n",
       "      <td>control</td>\n",
       "      <td>old_cart</td>\n",
       "      <td>0</td>\n",
       "    </tr>\n",
       "  </tbody>\n",
       "</table>\n",
       "</div>"
      ],
      "text/plain": [
       "         uid       date    group      page  converted\n",
       "2893  773192 2017-01-14  control  old_cart          0"
      ]
     },
     "execution_count": 19,
     "metadata": {},
     "output_type": "execute_result"
    }
   ],
   "source": [
    "df[df['uid']==773192]"
   ]
  },
  {
   "attachments": {},
   "cell_type": "markdown",
   "id": "f92e2fe4-4cb2-4a30-8ac2-3036741f4020",
   "metadata": {},
   "source": [
    "As a final step, in order to get a first impression of the results, we **plot a time series** of the daily avereage conversion rate as well as a **summary table containing some useful statistics** for both the control and treatment groups. "
   ]
  },
  {
   "cell_type": "code",
   "execution_count": 20,
   "id": "7c07c7e8-543a-4a57-99a5-1663bf721aba",
   "metadata": {},
   "outputs": [
    {
     "data": {
      "image/png": "[encoded data removed]",
      "text/plain": [
       "<Figure size 1300x700 with 1 Axes>"
      ]
     },
     "metadata": {},
     "output_type": "display_data"
    }
   ],
   "source": [
    "fig, ax = plt.subplots(figsize=(13, 7))\n",
    "p = sns.lineplot(x='date', y='converted', hue='group', data=df, errorbar=None)\n",
    "p.set_xlabel('')\n",
    "p.set_ylabel('Avg. Conversion Rate')\n",
    "plt.show()"
   ]
  },
  {
   "cell_type": "code",
   "execution_count": 21,
   "id": "9f2255e4-8beb-4e87-a8f7-0c8b37cb3502",
   "metadata": {},
   "outputs": [
    {
     "data": {
      "text/html": [
       "<div>\n",
       "<style scoped>\n",
       "    .dataframe tbody tr th:only-of-type {\n",
       "        vertical-align: middle;\n",
       "    }\n",
       "\n",
       "    .dataframe tbody tr th {\n",
       "        vertical-align: top;\n",
       "    }\n",
       "\n",
       "    .dataframe thead tr th {\n",
       "        text-align: left;\n",
       "    }\n",
       "</style>\n",
       "<table border=\"1\" class=\"dataframe\">\n",
       "  <thead>\n",
       "    <tr>\n",
       "      <th></th>\n",
       "      <th>group</th>\n",
       "      <th colspan=\"3\" halign=\"left\">converted</th>\n",
       "    </tr>\n",
       "    <tr>\n",
       "      <th></th>\n",
       "      <th></th>\n",
       "      <th>count</th>\n",
       "      <th>sum</th>\n",
       "      <th>mean</th>\n",
       "    </tr>\n",
       "  </thead>\n",
       "  <tbody>\n",
       "    <tr>\n",
       "      <th>0</th>\n",
       "      <td>control</td>\n",
       "      <td>145310</td>\n",
       "      <td>17264</td>\n",
       "      <td>0.118808</td>\n",
       "    </tr>\n",
       "    <tr>\n",
       "      <th>1</th>\n",
       "      <td>treatment</td>\n",
       "      <td>145274</td>\n",
       "      <td>17489</td>\n",
       "      <td>0.120386</td>\n",
       "    </tr>\n",
       "  </tbody>\n",
       "</table>\n",
       "</div>"
      ],
      "text/plain": [
       "       group converted                 \n",
       "                 count    sum      mean\n",
       "0    control    145310  17264  0.118808\n",
       "1  treatment    145274  17489  0.120386"
      ]
     },
     "execution_count": 21,
     "metadata": {},
     "output_type": "execute_result"
    }
   ],
   "source": [
    "df.groupby('group', as_index=False).agg({'converted': ['count', 'sum', np.mean]})"
   ]
  },
  {
   "attachments": {},
   "cell_type": "markdown",
   "id": "58856a99-21ae-4b80-8b86-f7d127f7f0c8",
   "metadata": {},
   "source": [
    "From the summary table we can immediately see that the two groups have a similar sample size, which means that the 50% traffic split process worked as expected. It is also visible that **the treatment group registered a higher number of conversions** compared to the control group. The rest of the analysis will be devoted to **finding out whether this difference is statistically significant** and if can be attributed to the restyling of the cart page. "
   ]
  },
  {
   "attachments": {},
   "cell_type": "markdown",
   "id": "a9efae2b",
   "metadata": {},
   "source": [
    "# PERMUTATION TEST INPLEMENTATION"
   ]
  },
  {
   "attachments": {},
   "cell_type": "markdown",
   "id": "7c5252ea-c059-4d12-82e1-5fba32484074",
   "metadata": {},
   "source": [
    "### Hypothesis Testing\n",
    "We decided to use a non-parametric test like a **permutation test** in order to assess if conversion rate recorded for the two groups (control and treatment) is statistically significant. "
   ]
  },
  {
   "attachments": {},
   "cell_type": "markdown",
   "id": "d3faf76b-2a59-45bd-bc21-d82f62659b1c",
   "metadata": {},
   "source": [
    "### The Null Hypothesis\n",
    "\n",
    "In our case, the **counter-claim** would be that there is **no difference** between the old and new cart pages and thus we expect to see no difference in conversion rate ($CR$) between the control and treatment groups. We call this counter-claim the **null hypothesis** ($H_0$), which we *assume to be true*, as opposed to the **alternative hypothesis** ($H_1$), which is the hypothesis we hope to *demonstrate to be true*. \n",
    "\n",
    "$$\n",
    "    \\begin{gather}\n",
    "        H_0: CR_{treatment} \\leq CR_{control} \\\\\n",
    "        H_1: CR_{treatment} > CR_{control}\n",
    "    \\end{gather}\n",
    "$$\n",
    "\n",
    "#### The Test Statisitc\n",
    "\n",
    "To determine whether or not the new cart page really is more effective at driving conversions, we need a way to quantify the difference between our null and alternative hypotheses; to do this, we use a **test statistic**.\n",
    "\n",
    "We will use the difference in conversion rate between the two groups:\n",
    "\n",
    "$$\n",
    "    \\text{Test Statistic} = CR_{treatment} - CR_{control}\n",
    "$$\n"
   ]
  },
  {
   "cell_type": "code",
   "execution_count": 26,
   "id": "d251c9ff-aa89-4286-8fd8-4653e064f416",
   "metadata": {},
   "outputs": [
    {
     "name": "stdout",
     "output_type": "stream",
     "text": [
      "Observed test statistic: 0.0015782389853555567\n"
     ]
    }
   ],
   "source": [
    "mu_control = np.mean(df[df.group=='control']['converted'])\n",
    "mu_treatment = np.mean(df[df.group=='treatment']['converted'])\n",
    "mu_diff = mu_treatment - mu_control\n",
    "print('Observed test statistic:', mu_diff)"
   ]
  },
  {
   "attachments": {},
   "cell_type": "markdown",
   "id": "2554d304",
   "metadata": {},
   "source": [
    "### Permutations"
   ]
  },
  {
   "cell_type": "code",
   "execution_count": 28,
   "id": "e6842f92-bab0-432d-bf23-175483e6a80c",
   "metadata": {},
   "outputs": [],
   "source": [
    "n = 1000\n",
    "mu_diff_samples = []\n",
    "for i in range(n): \n",
    "    # extract a subsample of 50% of data without replacement\n",
    "    df_sample1 = df.sample(frac=0.5, replace=False)\n",
    "    # use set() to get indexes of rows that were not extracted from df in previous step\n",
    "    ix2 = set(df.index) - set(df_sample1.index)\n",
    "    # create dataframe with other 50% of data\n",
    "    df_sample2 = df.loc[list(ix2)]\n",
    "    # calculate difference in mean from each sample\n",
    "    mu_diff_temp = np.mean(df_sample1['converted']) - np.mean(df_sample2['converted'])\n",
    "    # append sampled mean difference to mu_diff_samples list\n",
    "    mu_diff_samples.append(mu_diff_temp)"
   ]
  },
  {
   "attachments": {},
   "cell_type": "markdown",
   "id": "33bd348b-71e9-4fa2-b539-8db70d1880ea",
   "metadata": {},
   "source": [
    "#### The p-value\n",
    "\n",
    "Now, let's see where does the **observed test statistic** (red dashed line) lay with respect to the distribution of the **simulated test statistic under the null hypothesis** (blue histogram). "
   ]
  },
  {
   "cell_type": "code",
   "execution_count": 31,
   "id": "1bb5c59d-0194-4a15-b8d2-45281f8dd9df",
   "metadata": {},
   "outputs": [
    {
     "data": {
      "image/png": "[encoded data removed]",
      "text/plain": [
       "<Figure size 640x480 with 1 Axes>"
      ]
     },
     "metadata": {},
     "output_type": "display_data"
    },
    {
     "name": "stdout",
     "output_type": "stream",
     "text": [
      "Initially Observed Test Statistic: 0.0016\n"
     ]
    }
   ],
   "source": [
    "sns.histplot(mu_diff_samples)\n",
    "plt.axvline(mu_diff, 0, 1, color='r', linestyle='--')\n",
    "plt.show()\n",
    "print('Initially Observed Test Statistic:', f'{mu_diff:.4f}')"
   ]
  },
  {
   "cell_type": "code",
   "execution_count": 34,
   "id": "723f8dbc-c0ac-46f3-856d-8b50c72ca258",
   "metadata": {},
   "outputs": [
    {
     "name": "stdout",
     "output_type": "stream",
     "text": [
      "p-value: 0.097\n"
     ]
    }
   ],
   "source": [
    "p_value = sum([el > mu_diff for el in mu_diff_samples])/n\n",
    "print('p-value:',p_value)"
   ]
  },
  {
   "cell_type": "code",
   "execution_count": 41,
   "id": "ff9298bb-d152-4ab6-a37d-35391bb24898",
   "metadata": {},
   "outputs": [
    {
     "name": "stdout",
     "output_type": "stream",
     "text": [
      "H0 accepted | the observed result is not statistically significant\n"
     ]
    }
   ],
   "source": [
    "alpha = 0.05\n",
    "\n",
    "if p_value <= alpha: \n",
    "    print('H0 rejected: the observed result is statistically significant')\n",
    "else: \n",
    "    print('H0 accepted | the observed result is not statistically significant')"
   ]
  },
  {
   "attachments": {},
   "cell_type": "markdown",
   "id": "1c5f6282-fc19-46a0-b0d2-8bcba43a3524",
   "metadata": {
    "tags": []
   },
   "source": [
    "# RESULT\n",
    "\n",
    "As a final consideration, we can see a p-value greater than the 5% significance level, so we can accept the null hypothesis and say that there are no statistically acceptable differences between the treatment group and the control group"
   ]
  }
 ],
 "metadata": {
  "kernelspec": {
   "display_name": "boolean",
   "language": "python",
   "name": "python3"
  },
  "language_info": {
   "codemirror_mode": {
    "name": "ipython",
    "version": 3
   },
   "file_extension": ".py",
   "mimetype": "text/x-python",
   "name": "python",
   "nbconvert_exporter": "python",
   "pygments_lexer": "ipython3",
   "version": "3.10.9"
  },
  "vscode": {
   "interpreter": {
    "hash": "349830fed8bc26fb713251f1d80203f0fa6f9d9f46e5aaf621ba85f5a7be9f56"
   }
  }
 },
 "nbformat": 4,
 "nbformat_minor": 5
}
